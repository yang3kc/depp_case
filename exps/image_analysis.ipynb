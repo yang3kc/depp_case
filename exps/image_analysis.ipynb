{
 "cells": [
  {
   "cell_type": "code",
   "execution_count": 13,
   "id": "15d7b9b4-d2aa-45bc-9ac5-832988a42dc3",
   "metadata": {},
   "outputs": [],
   "source": [
    "import pandas as pd\n",
    "import os"
   ]
  },
  {
   "cell_type": "code",
   "execution_count": 18,
   "id": "fa9f0be1-6d1e-4b73-95c0-b0425f46f0d5",
   "metadata": {},
   "outputs": [],
   "source": [
    "directory_path = '../profile_images/images'"
   ]
  },
  {
   "cell_type": "code",
   "execution_count": 24,
   "id": "a3a5bf1f-f8e0-495c-a9e9-34174b5efad9",
   "metadata": {},
   "outputs": [],
   "source": [
    "uid_path_mapping = {}\n",
    "for root, dirs, files in os.walk(directory_path):\n",
    "    for file in files:\n",
    "        if file.endswith(\"jpg\"):\n",
    "            uid = file.split(\".\")[0]\n",
    "            uid_path_mapping[uid] = {\n",
    "                \"file_name\": file,\n",
    "                \"file_path\": os.path.join(root, file)\n",
    "            }"
   ]
  },
  {
   "cell_type": "code",
   "execution_count": 38,
   "id": "720739ca-ac6f-4ada-a2d7-6ffb2a566d4b",
   "metadata": {},
   "outputs": [
    {
     "data": {
      "text/plain": [
       "0.2528688459270357"
      ]
     },
     "execution_count": 38,
     "metadata": {},
     "output_type": "execute_result"
    }
   ],
   "source": [
    "len(uid_path_mapping) / 250972"
   ]
  },
  {
   "cell_type": "code",
   "execution_count": 31,
   "id": "3fb65b93-8f03-47bc-998e-a88303703ce7",
   "metadata": {},
   "outputs": [],
   "source": [
    "ganed_df = pd.read_csv(\"../profile_images/ganed_results/ganed_results_all.csv\", dtype={\"uid\": \"O\"})"
   ]
  },
  {
   "cell_type": "code",
   "execution_count": 32,
   "id": "9adca0f3-fd59-4c03-8647-5fcb63bb32af",
   "metadata": {},
   "outputs": [
    {
     "data": {
      "text/plain": [
       "uid       object\n",
       "ganed    float64\n",
       "dtype: object"
      ]
     },
     "execution_count": 32,
     "metadata": {},
     "output_type": "execute_result"
    }
   ],
   "source": [
    "ganed_df.dtypes"
   ]
  },
  {
   "cell_type": "code",
   "execution_count": 33,
   "id": "f1b27e81-0b13-4820-bef5-489bba12f169",
   "metadata": {},
   "outputs": [
    {
     "data": {
      "text/html": [
       "<div>\n",
       "<style scoped>\n",
       "    .dataframe tbody tr th:only-of-type {\n",
       "        vertical-align: middle;\n",
       "    }\n",
       "\n",
       "    .dataframe tbody tr th {\n",
       "        vertical-align: top;\n",
       "    }\n",
       "\n",
       "    .dataframe thead th {\n",
       "        text-align: right;\n",
       "    }\n",
       "</style>\n",
       "<table border=\"1\" class=\"dataframe\">\n",
       "  <thead>\n",
       "    <tr style=\"text-align: right;\">\n",
       "      <th></th>\n",
       "      <th>uid</th>\n",
       "      <th>ganed</th>\n",
       "    </tr>\n",
       "  </thead>\n",
       "  <tbody>\n",
       "    <tr>\n",
       "      <th>25981</th>\n",
       "      <td>1323085434512007168</td>\n",
       "      <td>0.000540</td>\n",
       "    </tr>\n",
       "    <tr>\n",
       "      <th>17763</th>\n",
       "      <td>1281288188074418176</td>\n",
       "      <td>0.001833</td>\n",
       "    </tr>\n",
       "    <tr>\n",
       "      <th>57788</th>\n",
       "      <td>855377591061983232</td>\n",
       "      <td>0.001868</td>\n",
       "    </tr>\n",
       "    <tr>\n",
       "      <th>28145</th>\n",
       "      <td>168207941</td>\n",
       "      <td>0.001962</td>\n",
       "    </tr>\n",
       "    <tr>\n",
       "      <th>56153</th>\n",
       "      <td>833540671147421696</td>\n",
       "      <td>0.002751</td>\n",
       "    </tr>\n",
       "    <tr>\n",
       "      <th>...</th>\n",
       "      <td>...</td>\n",
       "      <td>...</td>\n",
       "    </tr>\n",
       "    <tr>\n",
       "      <th>25222</th>\n",
       "      <td>1342661274</td>\n",
       "      <td>1.000000</td>\n",
       "    </tr>\n",
       "    <tr>\n",
       "      <th>25223</th>\n",
       "      <td>1347459816990511104</td>\n",
       "      <td>1.000000</td>\n",
       "    </tr>\n",
       "    <tr>\n",
       "      <th>25224</th>\n",
       "      <td>1324849524532219906</td>\n",
       "      <td>1.000000</td>\n",
       "    </tr>\n",
       "    <tr>\n",
       "      <th>25213</th>\n",
       "      <td>149675892</td>\n",
       "      <td>1.000000</td>\n",
       "    </tr>\n",
       "    <tr>\n",
       "      <th>63272</th>\n",
       "      <td>982803872476475392</td>\n",
       "      <td>1.000000</td>\n",
       "    </tr>\n",
       "  </tbody>\n",
       "</table>\n",
       "<p>63273 rows × 2 columns</p>\n",
       "</div>"
      ],
      "text/plain": [
       "                       uid     ganed\n",
       "25981  1323085434512007168  0.000540\n",
       "17763  1281288188074418176  0.001833\n",
       "57788   855377591061983232  0.001868\n",
       "28145            168207941  0.001962\n",
       "56153   833540671147421696  0.002751\n",
       "...                    ...       ...\n",
       "25222           1342661274  1.000000\n",
       "25223  1347459816990511104  1.000000\n",
       "25224  1324849524532219906  1.000000\n",
       "25213            149675892  1.000000\n",
       "63272   982803872476475392  1.000000\n",
       "\n",
       "[63273 rows x 2 columns]"
      ]
     },
     "execution_count": 33,
     "metadata": {},
     "output_type": "execute_result"
    }
   ],
   "source": [
    "ganed_df.sort_values(by='ganed')"
   ]
  },
  {
   "cell_type": "code",
   "execution_count": 34,
   "id": "b6351080-46fa-4d77-8265-664d51e8cc78",
   "metadata": {},
   "outputs": [],
   "source": [
    "for index, row in ganed_df.query('ganed < 0.02').iterrows():\n",
    "    uid = row['uid']\n",
    "    file_path = uid_path_mapping[uid]['file_path']\n",
    "    file_name = uid_path_mapping[uid]['file_name']\n",
    "    os.system(f\"cp {file_path} ../profile_images/candidates/002/{file_name}\")"
   ]
  },
  {
   "cell_type": "code",
   "execution_count": 36,
   "id": "a4acc1fa-d664-49a1-a405-44437f3e605d",
   "metadata": {},
   "outputs": [],
   "source": [
    "for index, row in ganed_df.query('0.02 <= ganed < 0.03').iterrows():\n",
    "    uid = row['uid']\n",
    "    file_path = uid_path_mapping[uid]['file_path']\n",
    "    file_name = uid_path_mapping[uid]['file_name']\n",
    "    os.system(f\"cp {file_path} ../profile_images/candidates/003/{file_name}\")"
   ]
  },
  {
   "cell_type": "code",
   "execution_count": null,
   "id": "aaa03d28-ad4c-4db5-89a3-49ee59cc785a",
   "metadata": {},
   "outputs": [],
   "source": []
  }
 ],
 "metadata": {
  "kernelspec": {
   "display_name": "Python 3 (ipykernel)",
   "language": "python",
   "name": "python3"
  },
  "language_info": {
   "codemirror_mode": {
    "name": "ipython",
    "version": 3
   },
   "file_extension": ".py",
   "mimetype": "text/x-python",
   "name": "python",
   "nbconvert_exporter": "python",
   "pygments_lexer": "ipython3",
   "version": "3.10.12"
  }
 },
 "nbformat": 4,
 "nbformat_minor": 5
}
