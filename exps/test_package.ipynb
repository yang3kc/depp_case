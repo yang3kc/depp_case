{
 "cells": [
  {
   "cell_type": "code",
   "execution_count": 1,
   "id": "cf8fb88d-f286-4f90-a175-a73e1fa0dd6b",
   "metadata": {},
   "outputs": [],
   "source": [
    "import pandas as pd\n",
    "import gzip\n",
    "import ujson as json\n",
    "import os\n",
    "import depppack"
   ]
  },
  {
   "cell_type": "code",
   "execution_count": 2,
   "id": "6d4b73a5-d0ac-4577-a8a6-20e280d6f44f",
   "metadata": {},
   "outputs": [],
   "source": [
    "output_root = \"/home/yangkc/depp_case/data/intermediate_data\""
   ]
  },
  {
   "cell_type": "code",
   "execution_count": 3,
   "id": "8e226323-83dd-4687-904e-7fe36c9d01d1",
   "metadata": {},
   "outputs": [],
   "source": [
    "temp_tweets = []\n",
    "with open(os.path.join(output_root, \"raw_tweets_months\", \"2020-04.ndjson\")) as f:\n",
    "    for line in f:\n",
    "        tweet = json.loads(line)\n",
    "        temp_tweets.append(tweet)"
   ]
  },
  {
   "cell_type": "code",
   "execution_count": 4,
   "id": "5ad6b64d-b866-4ce8-b442-ed95aedfa396",
   "metadata": {},
   "outputs": [
    {
     "data": {
      "text/plain": [
       "21810"
      ]
     },
     "execution_count": 4,
     "metadata": {},
     "output_type": "execute_result"
    }
   ],
   "source": [
    "len(temp_tweets)"
   ]
  },
  {
   "cell_type": "code",
   "execution_count": 5,
   "id": "a8493a6e-e05c-45f0-b98c-7ba0caefaec0",
   "metadata": {},
   "outputs": [],
   "source": [
    "tweet_obj = depppack.Tweet(temp_tweets[0])"
   ]
  },
  {
   "cell_type": "code",
   "execution_count": 9,
   "id": "c4dd21fc-2485-4afb-9db2-2d23251efb20",
   "metadata": {},
   "outputs": [
    {
     "data": {
      "text/plain": [
       "True"
      ]
     },
     "execution_count": 9,
     "metadata": {},
     "output_type": "execute_result"
    }
   ],
   "source": [
    "tweet_obj.is_retweet"
   ]
  },
  {
   "cell_type": "code",
   "execution_count": 10,
   "id": "ff5a710d-80cf-492d-9a33-9edf2c5307d5",
   "metadata": {},
   "outputs": [
    {
     "data": {
      "text/plain": [
       "'33250897'"
      ]
     },
     "execution_count": 10,
     "metadata": {},
     "output_type": "execute_result"
    }
   ],
   "source": [
    "tweet_obj.get_retweeted_user_ID()"
   ]
  },
  {
   "cell_type": "code",
   "execution_count": 11,
   "id": "95175989-2407-44ef-a6e8-cf0c27757f4f",
   "metadata": {},
   "outputs": [
    {
     "data": {
      "text/plain": [
       "'33250897'"
      ]
     },
     "execution_count": 11,
     "metadata": {},
     "output_type": "execute_result"
    }
   ],
   "source": [
    "tweet_obj.get_retweeted_user_ID()"
   ]
  },
  {
   "cell_type": "code",
   "execution_count": 15,
   "id": "8e84d4af-a190-4b32-8d43-53ec1bd1a505",
   "metadata": {},
   "outputs": [
    {
     "data": {
      "text/plain": [
       "{'profile_use_background_image': True,\n",
       " 'protected': False,\n",
       " 'followers_count': 1135,\n",
       " 'geo_enabled': False,\n",
       " 'statuses_count': 58850,\n",
       " 'listed_count': 8,\n",
       " 'id': 1118060269652070400,\n",
       " 'is_translator': False,\n",
       " 'profile_sidebar_border_color': 'C0DEED',\n",
       " 'following': None,\n",
       " 'favourites_count': 100637,\n",
       " 'url': 'https://blacklivesmatters.carrd.co/',\n",
       " 'utc_offset': None,\n",
       " 'default_profile': True,\n",
       " 'profile_background_color': 'F5F8FA',\n",
       " 'profile_background_tile': False,\n",
       " 'profile_background_image_url': '',\n",
       " 'profile_text_color': '333333',\n",
       " 'profile_sidebar_fill_color': 'DDEEF6',\n",
       " 'location': '🦇KING JOHNNY DEPP🦇',\n",
       " 'contributors_enabled': False,\n",
       " 'profile_link_color': '1DA1F2',\n",
       " 'profile_banner_url': 'https://pbs.twimg.com/profile_banners/1118060269652070400/1610792186',\n",
       " 'friends_count': 1374,\n",
       " 'profile_image_url_https': 'https://pbs.twimg.com/profile_images/1355831633199427585/MOo2UD5I_normal.jpg',\n",
       " 'profile_background_image_url_https': '',\n",
       " 'follow_request_sent': None,\n",
       " 'created_at': 'Tue Apr 16 07:55:15 +0000 2019',\n",
       " 'default_profile_image': False,\n",
       " 'description': '⬜️”hello”-16/2020🏳️\\u200d🌈LGBTQ+🏳️\\u200d🌈 #inmemoriam #JusticeForJohnnyDepp “Micheal P Finnegan”- JD',\n",
       " 'screen_name': 'TheeSweeneyTodd',\n",
       " 'name': '💀☠️🦇 || I STAND WITH JOHNNY DEPP',\n",
       " 'lang': None,\n",
       " 'translator_type': 'none',\n",
       " 'verified': False,\n",
       " 'profile_image_url': 'http://pbs.twimg.com/profile_images/1355831633199427585/MOo2UD5I_normal.jpg',\n",
       " 'notifications': None,\n",
       " 'time_zone': None,\n",
       " 'id_str': '1118060269652070400'}"
      ]
     },
     "execution_count": 15,
     "metadata": {},
     "output_type": "execute_result"
    }
   ],
   "source": [
    "tweet_obj.get_value(['user'])"
   ]
  },
  {
   "cell_type": "code",
   "execution_count": 20,
   "id": "629dbe09-9bb8-4f7b-a588-fae257ebce23",
   "metadata": {},
   "outputs": [],
   "source": [
    "tweet_df = pd.read_parquet(\"../data/intermediate_data/tweet_info/tweet_info_all.parquet\")"
   ]
  },
  {
   "cell_type": "code",
   "execution_count": 21,
   "id": "eca404b7-d88a-4831-8407-ca1b216244c5",
   "metadata": {},
   "outputs": [
    {
     "data": {
      "text/plain": [
       "1098792"
      ]
     },
     "execution_count": 21,
     "metadata": {},
     "output_type": "execute_result"
    }
   ],
   "source": [
    "len(tweet_df)"
   ]
  },
  {
   "cell_type": "code",
   "execution_count": 22,
   "id": "839fc4ce-a19f-4e28-ba4b-9f8a64829496",
   "metadata": {},
   "outputs": [
    {
     "data": {
      "text/plain": [
       "250972"
      ]
     },
     "execution_count": 22,
     "metadata": {},
     "output_type": "execute_result"
    }
   ],
   "source": [
    "tweet_df.user_id.nunique()"
   ]
  },
  {
   "cell_type": "code",
   "execution_count": 27,
   "id": "c103dcd6-fac6-4cad-9748-87ba05456c61",
   "metadata": {},
   "outputs": [
    {
     "data": {
      "text/plain": [
       "Index(['tweet_id', 'link', 'created_at', 'source', 'retweet_count',\n",
       "       'like_count', 'text', 'tweet_type', 'retweet_id', 'retweet_user_id',\n",
       "       'user_id', 'user_created_at', 'user_followers_count',\n",
       "       'user_friends_count', 'user_tweet_count', 'screen_name', 'name',\n",
       "       'verified', 'profile_image_url', 'description'],\n",
       "      dtype='object')"
      ]
     },
     "execution_count": 27,
     "metadata": {},
     "output_type": "execute_result"
    }
   ],
   "source": [
    "tweet_df.columns"
   ]
  },
  {
   "cell_type": "code",
   "execution_count": 28,
   "id": "01263d70-6699-4690-a256-93734ab71f57",
   "metadata": {},
   "outputs": [
    {
     "data": {
      "text/plain": [
       "tweet_type\n",
       "retweet     668328\n",
       "original    236410\n",
       "quote       194054\n",
       "Name: count, dtype: int64"
      ]
     },
     "execution_count": 28,
     "metadata": {},
     "output_type": "execute_result"
    }
   ],
   "source": [
    "tweet_df.tweet_type.value_counts()"
   ]
  },
  {
   "cell_type": "code",
   "execution_count": 30,
   "id": "d1ddcb3e-b907-4aa0-b789-084256bb5f7e",
   "metadata": {},
   "outputs": [
    {
     "data": {
      "text/plain": [
       "retweet_user_id\n",
       "3322798903             32628\n",
       "4583281223             32304\n",
       "1279084967084122113    14778\n",
       "276394494              12142\n",
       "194988081              12108\n",
       "                       ...  \n",
       "1257750483978125317        1\n",
       "1299103712191934467        1\n",
       "1290856694126436352        1\n",
       "1040401903                 1\n",
       "1204178749425684480        1\n",
       "Name: count, Length: 14539, dtype: int64"
      ]
     },
     "execution_count": 30,
     "metadata": {},
     "output_type": "execute_result"
    }
   ],
   "source": [
    "tweet_df.query(\"tweet_type == 'retweet'\").retweet_user_id.value_counts()"
   ]
  },
  {
   "cell_type": "code",
   "execution_count": 31,
   "id": "cf585548-d7b9-49ec-8d6d-5227f8db7611",
   "metadata": {},
   "outputs": [
    {
     "data": {
      "text/plain": [
       "retweet_id\n",
       "1325557443892551685    30608\n",
       "1324752837117501440    10926\n",
       "1325026847164407809     8669\n",
       "1285800464458510337     8096\n",
       "1324769261043228674     5378\n",
       "                       ...  \n",
       "1324765752944029696        1\n",
       "1324787265126735875        1\n",
       "1324756963746484224        1\n",
       "1324775369401094151        1\n",
       "1345232700081364993        1\n",
       "Name: count, Length: 64194, dtype: int64"
      ]
     },
     "execution_count": 31,
     "metadata": {},
     "output_type": "execute_result"
    }
   ],
   "source": [
    "tweet_df.query(\"tweet_type == 'retweet'\").retweet_id.value_counts()"
   ]
  },
  {
   "cell_type": "code",
   "execution_count": null,
   "id": "50686f5e-9391-400e-bdae-094242932b82",
   "metadata": {},
   "outputs": [],
   "source": []
  }
 ],
 "metadata": {
  "kernelspec": {
   "display_name": "Python 3 (ipykernel)",
   "language": "python",
   "name": "python3"
  },
  "language_info": {
   "codemirror_mode": {
    "name": "ipython",
    "version": 3
   },
   "file_extension": ".py",
   "mimetype": "text/x-python",
   "name": "python",
   "nbconvert_exporter": "python",
   "pygments_lexer": "ipython3",
   "version": "3.10.12"
  }
 },
 "nbformat": 4,
 "nbformat_minor": 5
}
