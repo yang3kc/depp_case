{
 "cells": [
  {
   "cell_type": "code",
   "execution_count": 6,
   "id": "dabe36b9-843f-4b32-820d-bbb6cbcb4315",
   "metadata": {},
   "outputs": [],
   "source": [
    "import pandas as pd\n",
    "import gzip\n",
    "import json"
   ]
  },
  {
   "cell_type": "code",
   "execution_count": 23,
   "id": "80549b7d-eb51-41ae-8043-784e63c0e011",
   "metadata": {},
   "outputs": [],
   "source": [
    "import matplotlib.pyplot as plt\n",
    "plt.rcParams.update({'font.size': 14})\n",
    "plt.rcParams.update({'axes.axisbelow': True})"
   ]
  },
  {
   "cell_type": "code",
   "execution_count": 14,
   "id": "bd43bde6-8cd8-41f9-a945-8bb15c9a7013",
   "metadata": {},
   "outputs": [],
   "source": [
    "botscore_jsons = []\n",
    "with open(\"/home/yangkc/depp/schnell/Subfiles/botscores.out\") as f:\n",
    "    for line in f:\n",
    "        botscore_jsons.append(eval(line))"
   ]
  },
  {
   "cell_type": "code",
   "execution_count": 21,
   "id": "9e8c961d-92c6-48af-abce-d12938645dab",
   "metadata": {},
   "outputs": [],
   "source": [
    "botscores_df = pd.DataFrame(\n",
    "    ([item['user']['user_data']['id_str'], item['raw_scores']['universal']['overall']] for item in botscore_jsons),\n",
    "    columns=['user_id', 'botscore']\n",
    ")"
   ]
  },
  {
   "cell_type": "code",
   "execution_count": 24,
   "id": "4e64c7dd-39e9-455c-aff9-f90eb54c4c51",
   "metadata": {},
   "outputs": [
    {
     "data": {
      "text/plain": [
       "(array([1804., 1559., 1385.,  854.,  305.,  170.,  290.,  280.,  282.,\n",
       "         180.]),\n",
       " array([0. , 0.1, 0.2, 0.3, 0.4, 0.5, 0.6, 0.7, 0.8, 0.9, 1. ]),\n",
       " <BarContainer object of 10 artists>)"
      ]
     },
     "execution_count": 24,
     "metadata": {},
     "output_type": "execute_result"
    },
    {
     "data": {
      "image/png": "[encoded data removed]",
      "text/plain": [
       "<Figure size 640x480 with 1 Axes>"
      ]
     },
     "metadata": {},
     "output_type": "display_data"
    }
   ],
   "source": [
    "plt.hist(botscores_df.botscore)"
   ]
  },
  {
   "cell_type": "code",
   "execution_count": 32,
   "id": "08eca7a3-99ec-4ac8-bf2d-c885ba4bb9a8",
   "metadata": {},
   "outputs": [
    {
     "data": {
      "text/plain": [
       "0.16711211140807428"
      ]
     },
     "execution_count": 32,
     "metadata": {},
     "output_type": "execute_result"
    }
   ],
   "source": [
    "len(botscores_df[botscores_df.botscore > 0.5]) / len(botscores_df)"
   ]
  },
  {
   "cell_type": "code",
   "execution_count": 37,
   "id": "5d1f9291-c176-4548-8b4e-cf9604bdfe90",
   "metadata": {},
   "outputs": [
    {
     "data": {
      "text/plain": [
       "7109"
      ]
     },
     "execution_count": 37,
     "metadata": {},
     "output_type": "execute_result"
    }
   ],
   "source": [
    "len(botscores_df)"
   ]
  },
  {
   "cell_type": "code",
   "execution_count": 38,
   "id": "f125fae3-7b2e-4cba-9edf-36ab79f4b588",
   "metadata": {},
   "outputs": [
    {
     "data": {
      "text/plain": [
       "7109"
      ]
     },
     "execution_count": 38,
     "metadata": {},
     "output_type": "execute_result"
    }
   ],
   "source": [
    "botscores_df.user_id.nunique()"
   ]
  },
  {
   "cell_type": "markdown",
   "id": "52a66191-d63f-4113-b13e-83e39d2c679d",
   "metadata": {},
   "source": [
    "# tweets"
   ]
  },
  {
   "cell_type": "code",
   "execution_count": 27,
   "id": "f9554040-3deb-4cc2-964e-d2a2cdb768c1",
   "metadata": {},
   "outputs": [],
   "source": [
    "tweets = []\n",
    "with open(\"/home/yangkc/depp/schnell/schnell.json\") as f:\n",
    "    for line in f:\n",
    "        tweets.append(eval(line))"
   ]
  },
  {
   "cell_type": "code",
   "execution_count": 28,
   "id": "7c2137e4-7634-49cb-a9e6-0c87efeecf64",
   "metadata": {},
   "outputs": [
    {
     "data": {
      "text/plain": [
       "1243436"
      ]
     },
     "execution_count": 28,
     "metadata": {},
     "output_type": "execute_result"
    }
   ],
   "source": [
    "len(tweets)"
   ]
  },
  {
   "cell_type": "code",
   "execution_count": 34,
   "id": "9f5053f8-f69c-44b9-8f96-d6d719d8683b",
   "metadata": {},
   "outputs": [],
   "source": [
    "user_ids = []\n",
    "for tweet in tweets:\n",
    "    user_ids.append(tweet['user']['id'])"
   ]
  },
  {
   "cell_type": "code",
   "execution_count": 35,
   "id": "1160d6f0-28f7-4347-af09-a00c02f6124f",
   "metadata": {},
   "outputs": [
    {
     "data": {
      "text/plain": [
       "1243436"
      ]
     },
     "execution_count": 35,
     "metadata": {},
     "output_type": "execute_result"
    }
   ],
   "source": [
    "len(user_ids)"
   ]
  },
  {
   "cell_type": "code",
   "execution_count": 36,
   "id": "1d23bbb8-f23c-402f-9e12-799f1ae4b7a1",
   "metadata": {},
   "outputs": [
    {
     "data": {
      "text/plain": [
       "250972"
      ]
     },
     "execution_count": 36,
     "metadata": {},
     "output_type": "execute_result"
    }
   ],
   "source": [
    "len(set(user_ids))"
   ]
  },
  {
   "cell_type": "code",
   "execution_count": 9,
   "id": "c652cf4a-7dbf-47d9-bb72-65ed12e7d0cc",
   "metadata": {},
   "outputs": [
    {
     "data": {
      "text/plain": [
       "7649"
      ]
     },
     "execution_count": 9,
     "metadata": {},
     "output_type": "execute_result"
    }
   ],
   "source": [
    "len(temp_line)"
   ]
  },
  {
   "cell_type": "code",
   "execution_count": 11,
   "id": "7248f964-f8b3-4bb4-b4c0-366a129f79f6",
   "metadata": {},
   "outputs": [
    {
     "ename": "JSONDecodeError",
     "evalue": "Expecting property name enclosed in double quotes: line 1 column 2 (char 1)",
     "output_type": "error",
     "traceback": [
      "\u001b[0;31m---------------------------------------------------------------------------\u001b[0m",
      "\u001b[0;31mJSONDecodeError\u001b[0m                           Traceback (most recent call last)",
      "Cell \u001b[0;32mIn[11], line 1\u001b[0m\n\u001b[0;32m----> 1\u001b[0m \u001b[43mjson\u001b[49m\u001b[38;5;241;43m.\u001b[39;49m\u001b[43mloads\u001b[49m\u001b[43m(\u001b[49m\u001b[43mtemp_line\u001b[49m\u001b[43m)\u001b[49m\n",
      "File \u001b[0;32m~/mambaforge/lib/python3.10/json/__init__.py:346\u001b[0m, in \u001b[0;36mloads\u001b[0;34m(s, cls, object_hook, parse_float, parse_int, parse_constant, object_pairs_hook, **kw)\u001b[0m\n\u001b[1;32m    341\u001b[0m     s \u001b[38;5;241m=\u001b[39m s\u001b[38;5;241m.\u001b[39mdecode(detect_encoding(s), \u001b[38;5;124m'\u001b[39m\u001b[38;5;124msurrogatepass\u001b[39m\u001b[38;5;124m'\u001b[39m)\n\u001b[1;32m    343\u001b[0m \u001b[38;5;28;01mif\u001b[39;00m (\u001b[38;5;28mcls\u001b[39m \u001b[38;5;129;01mis\u001b[39;00m \u001b[38;5;28;01mNone\u001b[39;00m \u001b[38;5;129;01mand\u001b[39;00m object_hook \u001b[38;5;129;01mis\u001b[39;00m \u001b[38;5;28;01mNone\u001b[39;00m \u001b[38;5;129;01mand\u001b[39;00m\n\u001b[1;32m    344\u001b[0m         parse_int \u001b[38;5;129;01mis\u001b[39;00m \u001b[38;5;28;01mNone\u001b[39;00m \u001b[38;5;129;01mand\u001b[39;00m parse_float \u001b[38;5;129;01mis\u001b[39;00m \u001b[38;5;28;01mNone\u001b[39;00m \u001b[38;5;129;01mand\u001b[39;00m\n\u001b[1;32m    345\u001b[0m         parse_constant \u001b[38;5;129;01mis\u001b[39;00m \u001b[38;5;28;01mNone\u001b[39;00m \u001b[38;5;129;01mand\u001b[39;00m object_pairs_hook \u001b[38;5;129;01mis\u001b[39;00m \u001b[38;5;28;01mNone\u001b[39;00m \u001b[38;5;129;01mand\u001b[39;00m \u001b[38;5;129;01mnot\u001b[39;00m kw):\n\u001b[0;32m--> 346\u001b[0m     \u001b[38;5;28;01mreturn\u001b[39;00m \u001b[43m_default_decoder\u001b[49m\u001b[38;5;241;43m.\u001b[39;49m\u001b[43mdecode\u001b[49m\u001b[43m(\u001b[49m\u001b[43ms\u001b[49m\u001b[43m)\u001b[49m\n\u001b[1;32m    347\u001b[0m \u001b[38;5;28;01mif\u001b[39;00m \u001b[38;5;28mcls\u001b[39m \u001b[38;5;129;01mis\u001b[39;00m \u001b[38;5;28;01mNone\u001b[39;00m:\n\u001b[1;32m    348\u001b[0m     \u001b[38;5;28mcls\u001b[39m \u001b[38;5;241m=\u001b[39m JSONDecoder\n",
      "File \u001b[0;32m~/mambaforge/lib/python3.10/json/decoder.py:337\u001b[0m, in \u001b[0;36mJSONDecoder.decode\u001b[0;34m(self, s, _w)\u001b[0m\n\u001b[1;32m    332\u001b[0m \u001b[38;5;28;01mdef\u001b[39;00m \u001b[38;5;21mdecode\u001b[39m(\u001b[38;5;28mself\u001b[39m, s, _w\u001b[38;5;241m=\u001b[39mWHITESPACE\u001b[38;5;241m.\u001b[39mmatch):\n\u001b[1;32m    333\u001b[0m \u001b[38;5;250m    \u001b[39m\u001b[38;5;124;03m\"\"\"Return the Python representation of ``s`` (a ``str`` instance\u001b[39;00m\n\u001b[1;32m    334\u001b[0m \u001b[38;5;124;03m    containing a JSON document).\u001b[39;00m\n\u001b[1;32m    335\u001b[0m \n\u001b[1;32m    336\u001b[0m \u001b[38;5;124;03m    \"\"\"\u001b[39;00m\n\u001b[0;32m--> 337\u001b[0m     obj, end \u001b[38;5;241m=\u001b[39m \u001b[38;5;28;43mself\u001b[39;49m\u001b[38;5;241;43m.\u001b[39;49m\u001b[43mraw_decode\u001b[49m\u001b[43m(\u001b[49m\u001b[43ms\u001b[49m\u001b[43m,\u001b[49m\u001b[43m \u001b[49m\u001b[43midx\u001b[49m\u001b[38;5;241;43m=\u001b[39;49m\u001b[43m_w\u001b[49m\u001b[43m(\u001b[49m\u001b[43ms\u001b[49m\u001b[43m,\u001b[49m\u001b[43m \u001b[49m\u001b[38;5;241;43m0\u001b[39;49m\u001b[43m)\u001b[49m\u001b[38;5;241;43m.\u001b[39;49m\u001b[43mend\u001b[49m\u001b[43m(\u001b[49m\u001b[43m)\u001b[49m\u001b[43m)\u001b[49m\n\u001b[1;32m    338\u001b[0m     end \u001b[38;5;241m=\u001b[39m _w(s, end)\u001b[38;5;241m.\u001b[39mend()\n\u001b[1;32m    339\u001b[0m     \u001b[38;5;28;01mif\u001b[39;00m end \u001b[38;5;241m!=\u001b[39m \u001b[38;5;28mlen\u001b[39m(s):\n",
      "File \u001b[0;32m~/mambaforge/lib/python3.10/json/decoder.py:353\u001b[0m, in \u001b[0;36mJSONDecoder.raw_decode\u001b[0;34m(self, s, idx)\u001b[0m\n\u001b[1;32m    344\u001b[0m \u001b[38;5;250m\u001b[39m\u001b[38;5;124;03m\"\"\"Decode a JSON document from ``s`` (a ``str`` beginning with\u001b[39;00m\n\u001b[1;32m    345\u001b[0m \u001b[38;5;124;03ma JSON document) and return a 2-tuple of the Python\u001b[39;00m\n\u001b[1;32m    346\u001b[0m \u001b[38;5;124;03mrepresentation and the index in ``s`` where the document ended.\u001b[39;00m\n\u001b[0;32m   (...)\u001b[0m\n\u001b[1;32m    350\u001b[0m \n\u001b[1;32m    351\u001b[0m \u001b[38;5;124;03m\"\"\"\u001b[39;00m\n\u001b[1;32m    352\u001b[0m \u001b[38;5;28;01mtry\u001b[39;00m:\n\u001b[0;32m--> 353\u001b[0m     obj, end \u001b[38;5;241m=\u001b[39m \u001b[38;5;28;43mself\u001b[39;49m\u001b[38;5;241;43m.\u001b[39;49m\u001b[43mscan_once\u001b[49m\u001b[43m(\u001b[49m\u001b[43ms\u001b[49m\u001b[43m,\u001b[49m\u001b[43m \u001b[49m\u001b[43midx\u001b[49m\u001b[43m)\u001b[49m\n\u001b[1;32m    354\u001b[0m \u001b[38;5;28;01mexcept\u001b[39;00m \u001b[38;5;167;01mStopIteration\u001b[39;00m \u001b[38;5;28;01mas\u001b[39;00m err:\n\u001b[1;32m    355\u001b[0m     \u001b[38;5;28;01mraise\u001b[39;00m JSONDecodeError(\u001b[38;5;124m\"\u001b[39m\u001b[38;5;124mExpecting value\u001b[39m\u001b[38;5;124m\"\u001b[39m, s, err\u001b[38;5;241m.\u001b[39mvalue) \u001b[38;5;28;01mfrom\u001b[39;00m \u001b[38;5;28;01mNone\u001b[39;00m\n",
      "\u001b[0;31mJSONDecodeError\u001b[0m: Expecting property name enclosed in double quotes: line 1 column 2 (char 1)"
     ]
    }
   ],
   "source": [
    "json.loads(temp_line)"
   ]
  },
  {
   "cell_type": "code",
   "execution_count": 12,
   "id": "f89d9525-36ce-4e67-a1a6-9970f88596a3",
   "metadata": {},
   "outputs": [],
   "source": [
    "temp_json = eval(temp_line)"
   ]
  },
  {
   "cell_type": "code",
   "execution_count": 13,
   "id": "33eabdc8-1ed6-4cd3-ab7b-2814ec7b2201",
   "metadata": {},
   "outputs": [
    {
     "data": {
      "text/plain": [
       "{'retweeted': False,\n",
       " 'in_reply_to_status_id': None,\n",
       " 'favorite_count': 0,\n",
       " 'created_at': 'Thu Apr 30 23:54:33 +0000 2020',\n",
       " 'in_reply_to_user_id': None,\n",
       " 'id': 1256009073461465093,\n",
       " 'matching_rules': [{'tag': None}],\n",
       " 'possibly_sensitive': False,\n",
       " 'in_reply_to_user_id_str': None,\n",
       " 'truncated': False,\n",
       " 'coordinates': None,\n",
       " 'contributors': None,\n",
       " 'quote_count': 0,\n",
       " 'retweet_count': 0,\n",
       " 'user': {'profile_use_background_image': True,\n",
       "  'protected': False,\n",
       "  'followers_count': 1135,\n",
       "  'geo_enabled': False,\n",
       "  'statuses_count': 58850,\n",
       "  'listed_count': 8,\n",
       "  'id': 1118060269652070400,\n",
       "  'is_translator': False,\n",
       "  'profile_sidebar_border_color': 'C0DEED',\n",
       "  'following': None,\n",
       "  'favourites_count': 100637,\n",
       "  'url': 'https://blacklivesmatters.carrd.co/',\n",
       "  'utc_offset': None,\n",
       "  'default_profile': True,\n",
       "  'profile_background_color': 'F5F8FA',\n",
       "  'profile_background_tile': False,\n",
       "  'profile_background_image_url': '',\n",
       "  'profile_text_color': '333333',\n",
       "  'profile_sidebar_fill_color': 'DDEEF6',\n",
       "  'location': '🦇KING JOHNNY DEPP🦇',\n",
       "  'contributors_enabled': False,\n",
       "  'profile_link_color': '1DA1F2',\n",
       "  'profile_banner_url': 'https://pbs.twimg.com/profile_banners/1118060269652070400/1610792186',\n",
       "  'friends_count': 1374,\n",
       "  'profile_image_url_https': 'https://pbs.twimg.com/profile_images/1355831633199427585/MOo2UD5I_normal.jpg',\n",
       "  'profile_background_image_url_https': '',\n",
       "  'follow_request_sent': None,\n",
       "  'created_at': 'Tue Apr 16 07:55:15 +0000 2019',\n",
       "  'default_profile_image': False,\n",
       "  'description': '⬜️”hello”-16/2020🏳️\\u200d🌈LGBTQ+🏳️\\u200d🌈 #inmemoriam #JusticeForJohnnyDepp “Micheal P Finnegan”- JD',\n",
       "  'screen_name': 'TheeSweeneyTodd',\n",
       "  'name': '💀☠️🦇 || I STAND WITH JOHNNY DEPP',\n",
       "  'lang': None,\n",
       "  'translator_type': 'none',\n",
       "  'verified': False,\n",
       "  'profile_image_url': 'http://pbs.twimg.com/profile_images/1355831633199427585/MOo2UD5I_normal.jpg',\n",
       "  'notifications': None,\n",
       "  'time_zone': None,\n",
       "  'id_str': '1118060269652070400'},\n",
       " 'is_quote_status': False,\n",
       " 'geo': None,\n",
       " 'in_reply_to_screen_name': None,\n",
       " 'lang': 'en',\n",
       " 'retweeted_status': {'retweeted': False,\n",
       "  'in_reply_to_status_id': None,\n",
       "  'favorite_count': 13,\n",
       "  'is_quote_status': False,\n",
       "  'in_reply_to_user_id': None,\n",
       "  'id': 1255915461872455680,\n",
       "  'possibly_sensitive': False,\n",
       "  'in_reply_to_user_id_str': None,\n",
       "  'truncated': True,\n",
       "  'coordinates': None,\n",
       "  'contributors': None,\n",
       "  'quote_count': 1,\n",
       "  'retweet_count': 4,\n",
       "  'user': {'profile_use_background_image': True,\n",
       "   'protected': False,\n",
       "   'followers_count': 70,\n",
       "   'geo_enabled': False,\n",
       "   'statuses_count': 13623,\n",
       "   'listed_count': 9,\n",
       "   'id': 33250897,\n",
       "   'is_translator': False,\n",
       "   'profile_sidebar_border_color': '65B0DA',\n",
       "   'following': None,\n",
       "   'favourites_count': 24039,\n",
       "   'url': None,\n",
       "   'utc_offset': None,\n",
       "   'default_profile': False,\n",
       "   'profile_background_color': '642D8B',\n",
       "   'profile_background_tile': True,\n",
       "   'profile_background_image_url': 'http://abs.twimg.com/images/themes/theme10/bg.gif',\n",
       "   'profile_text_color': '3D1957',\n",
       "   'profile_sidebar_fill_color': '7AC3EE',\n",
       "   'location': None,\n",
       "   'contributors_enabled': False,\n",
       "   'profile_link_color': 'FF0000',\n",
       "   'profile_banner_url': 'https://pbs.twimg.com/profile_banners/33250897/1398297569',\n",
       "   'friends_count': 476,\n",
       "   'profile_image_url_https': 'https://pbs.twimg.com/profile_images/2516900608/8ern681s8jdmcj46kxcr_normal.jpeg',\n",
       "   'profile_background_image_url_https': 'https://abs.twimg.com/images/themes/theme10/bg.gif',\n",
       "   'follow_request_sent': None,\n",
       "   'created_at': 'Sun Apr 19 17:10:14 +0000 2009',\n",
       "   'default_profile_image': False,\n",
       "   'description': 'Addicted to reality TV.',\n",
       "   'screen_name': 'FlamenRed',\n",
       "   'name': 'FlamenRed',\n",
       "   'lang': None,\n",
       "   'translator_type': 'none',\n",
       "   'verified': False,\n",
       "   'profile_image_url': 'http://pbs.twimg.com/profile_images/2516900608/8ern681s8jdmcj46kxcr_normal.jpeg',\n",
       "   'notifications': None,\n",
       "   'time_zone': None,\n",
       "   'id_str': '33250897'},\n",
       "  'text': 'DC Entertainment: Remove Amber Heard from Aquaman 2 - Sign the Petition! https://t.co/mlsd7rcykC via @CdnChange… https://t.co/DxpCg10OQS',\n",
       "  'created_at': 'Thu Apr 30 17:42:34 +0000 2020',\n",
       "  'lang': 'en',\n",
       "  'in_reply_to_screen_name': None,\n",
       "  'geo': None,\n",
       "  'entities': {'user_mentions': [{'name': 'Change.org Canada',\n",
       "     'id': 551290354,\n",
       "     'id_str': '551290354',\n",
       "     'indices': [101, 111],\n",
       "     'screen_name': 'CdnChange'}],\n",
       "   'hashtags': [],\n",
       "   'symbols': [],\n",
       "   'urls': [{'unwound': {'status': 200,\n",
       "      'title': 'Sign the Petition',\n",
       "      'url': 'https://www.change.org/p/dc-entertainment-remove-amber-heard-from-aquaman-2?recruiter=266925541&utm_source=share_petition&utm_medium=twitter&utm_campaign=psf_combo_share_initial&recruited_by_id=e23e9670-d639-11e4-9d33-ffc831cabec6&pt=AVBldGl0aW9uAMCB3AAAAAAAXkRJ0rp%2BBeFhOWMzYWIxNg%3D%3D',\n",
       "      'description': 'Remove Amber Heard from Aquaman 2'},\n",
       "     'url': 'https://t.co/mlsd7rcykC',\n",
       "     'expanded_url': 'http://chng.it/9wLN9RJ4',\n",
       "     'indices': [73, 96],\n",
       "     'display_url': 'chng.it/9wLN9RJ4'},\n",
       "    {'url': 'https://t.co/DxpCg10OQS',\n",
       "     'expanded_url': 'https://twitter.com/i/web/status/1255915461872455680',\n",
       "     'indices': [113, 136],\n",
       "     'display_url': 'twitter.com/i/web/status/1…'}]},\n",
       "  'in_reply_to_status_id_str': None,\n",
       "  'reply_count': 0,\n",
       "  'filter_level': 'low',\n",
       "  'id_str': '1255915461872455680',\n",
       "  'extended_tweet': {'entities': {'user_mentions': [{'name': 'Change.org Canada',\n",
       "      'id': 551290354,\n",
       "      'id_str': '551290354',\n",
       "      'indices': [101, 111],\n",
       "      'screen_name': 'CdnChange'}],\n",
       "    'hashtags': [{'text': 'amberheard', 'indices': [113, 124]},\n",
       "     {'text': 'amberheardisanabuser', 'indices': [125, 146]},\n",
       "     {'text': 'JohnnyDepp', 'indices': [147, 158]},\n",
       "     {'text': 'JusticeForJohnny', 'indices': [159, 176]},\n",
       "     {'text': 'abusehasnogender', 'indices': [177, 194]}],\n",
       "    'symbols': [],\n",
       "    'urls': [{'unwound': {'status': 200,\n",
       "       'title': 'Sign the Petition',\n",
       "       'url': 'https://www.change.org/p/dc-entertainment-remove-amber-heard-from-aquaman-2?recruiter=266925541&utm_source=share_petition&utm_medium=twitter&utm_campaign=psf_combo_share_initial&recruited_by_id=e23e9670-d639-11e4-9d33-ffc831cabec6&pt=AVBldGl0aW9uAMCB3AAAAAAAXkRJ0rp%2BBeFhOWMzYWIxNg%3D%3D',\n",
       "       'description': 'Remove Amber Heard from Aquaman 2'},\n",
       "      'url': 'https://t.co/mlsd7rcykC',\n",
       "      'expanded_url': 'http://chng.it/9wLN9RJ4',\n",
       "      'indices': [73, 96],\n",
       "      'display_url': 'chng.it/9wLN9RJ4'}]},\n",
       "   'full_text': 'DC Entertainment: Remove Amber Heard from Aquaman 2 - Sign the Petition! https://t.co/mlsd7rcykC via @CdnChange  #amberheard #amberheardisanabuser #JohnnyDepp #JusticeForJohnny #abusehasnogender',\n",
       "   'display_text_range': [0, 194]},\n",
       "  'favorited': False,\n",
       "  'place': None,\n",
       "  'source': '<a href=\"http://twitter.com/download/android\" rel=\"nofollow\">Twitter for Android</a>'},\n",
       " 'place': None,\n",
       " 'reply_count': 0,\n",
       " 'filter_level': 'low',\n",
       " 'entities': {'user_mentions': [{'name': 'FlamenRed',\n",
       "    'id': 33250897,\n",
       "    'id_str': '33250897',\n",
       "    'indices': [3, 13],\n",
       "    'screen_name': 'FlamenRed'},\n",
       "   {'name': 'Change.org Canada',\n",
       "    'id': 551290354,\n",
       "    'id_str': '551290354',\n",
       "    'indices': [116, 126],\n",
       "    'screen_name': 'CdnChange'}],\n",
       "  'hashtags': [{'text': 'amberheard', 'indices': [128, 139]}],\n",
       "  'symbols': [],\n",
       "  'urls': [{'unwound': {'status': 200,\n",
       "     'title': 'Sign the Petition',\n",
       "     'url': 'https://www.change.org/p/dc-entertainment-remove-amber-heard-from-aquaman-2?recruiter=266925541&utm_source=share_petition&utm_medium=twitter&utm_campaign=psf_combo_share_initial&recruited_by_id=e23e9670-d639-11e4-9d33-ffc831cabec6&pt=AVBldGl0aW9uAMCB3AAAAAAAXkRJ0rp%2BBeFhOWMzYWIxNg%3D%3D',\n",
       "     'description': 'Remove Amber Heard from Aquaman 2'},\n",
       "    'url': 'https://t.co/mlsd7rcykC',\n",
       "    'expanded_url': 'http://chng.it/9wLN9RJ4',\n",
       "    'indices': [88, 111],\n",
       "    'display_url': 'chng.it/9wLN9RJ4'}]},\n",
       " 'source': '<a href=\"http://twitter.com/#!/download/ipad\" rel=\"nofollow\">Twitter for iPad</a>',\n",
       " 'text': 'RT @FlamenRed: DC Entertainment: Remove Amber Heard from Aquaman 2 - Sign the Petition! https://t.co/mlsd7rcykC via @CdnChange  #amberheard…',\n",
       " 'favorited': False,\n",
       " 'in_reply_to_status_id_str': None,\n",
       " 'id_str': '1256009073461465093'}"
      ]
     },
     "execution_count": 13,
     "metadata": {},
     "output_type": "execute_result"
    }
   ],
   "source": [
    "temp_json"
   ]
  },
  {
   "cell_type": "code",
   "execution_count": null,
   "id": "0a760e9e-9da8-459a-adef-f3842d7671bd",
   "metadata": {},
   "outputs": [],
   "source": []
  }
 ],
 "metadata": {
  "kernelspec": {
   "display_name": "Python 3 (ipykernel)",
   "language": "python",
   "name": "python3"
  },
  "language_info": {
   "codemirror_mode": {
    "name": "ipython",
    "version": 3
   },
   "file_extension": ".py",
   "mimetype": "text/x-python",
   "name": "python",
   "nbconvert_exporter": "python",
   "pygments_lexer": "ipython3",
   "version": "3.10.12"
  }
 },
 "nbformat": 4,
 "nbformat_minor": 5
}
