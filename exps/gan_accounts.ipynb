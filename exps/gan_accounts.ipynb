{
 "cells": [
  {
   "cell_type": "code",
   "execution_count": 1,
   "id": "e9c85dc6-7a84-4636-9272-0246e940a7a5",
   "metadata": {},
   "outputs": [],
   "source": [
    "import pandas as pd"
   ]
  },
  {
   "cell_type": "code",
   "execution_count": 2,
   "id": "17116c5c-809e-40af-af8a-08403b5893e9",
   "metadata": {},
   "outputs": [],
   "source": [
    "tweet_df = pd.read_parquet(\"../data/intermediate_data/tweet_info/tweet_info_all.parquet\")"
   ]
  },
  {
   "cell_type": "markdown",
   "id": "60c43061-d30e-4dd2-b5b6-9d3cbc5b807c",
   "metadata": {},
   "source": [
    "# 833540671147421696"
   ]
  },
  {
   "cell_type": "code",
   "execution_count": 14,
   "id": "7bf00fec-4c5c-416c-8ec0-9c7e6777c7c3",
   "metadata": {},
   "outputs": [],
   "source": [
    "SDancetale_df = tweet_df.query(\"user_id == '833540671147421696'\")"
   ]
  },
  {
   "cell_type": "code",
   "execution_count": 36,
   "id": "04889e1a-4c2d-4e58-9cb4-794f43761c65",
   "metadata": {},
   "outputs": [
    {
     "data": {
      "text/plain": [
       "retweet_id\n",
       "1324785688324308993    1\n",
       "1324774627147657221    1\n",
       "1324856063238107137    1\n",
       "1324819770966003714    1\n",
       "1324855088242978817    1\n",
       "1324870496396177408    1\n",
       "1324823440432521217    1\n",
       "1324830824940871682    1\n",
       "1324843042914791424    1\n",
       "1324846733428482057    1\n",
       "1324827999015997440    1\n",
       "Name: count, dtype: int64"
      ]
     },
     "execution_count": 36,
     "metadata": {},
     "output_type": "execute_result"
    }
   ],
   "source": [
    "SDancetale_df.retweet_id.value_counts()"
   ]
  },
  {
   "cell_type": "code",
   "execution_count": 22,
   "id": "47386d85-0bb1-46a6-8f60-310bf990c54c",
   "metadata": {},
   "outputs": [],
   "source": [
    "target_retweet_ids = set(SDancetale_df.retweet_id)"
   ]
  },
  {
   "cell_type": "code",
   "execution_count": 24,
   "id": "a1539b0a-6a1d-47d4-94b2-55d6f518e40b",
   "metadata": {},
   "outputs": [],
   "source": [
    "SDancetale_retweets = tweet_df[tweet_df.retweet_id.isin(target_retweet_ids)]"
   ]
  },
  {
   "cell_type": "code",
   "execution_count": 37,
   "id": "65fdcc49-a727-41eb-8826-e4b1e8e1d699",
   "metadata": {},
   "outputs": [
    {
     "data": {
      "text/plain": [
       "retweet_id\n",
       "1324830824940871682    2582\n",
       "1324827999015997440    1323\n",
       "1324785688324308993    1297\n",
       "1324855088242978817     986\n",
       "1324843042914791424     524\n",
       "1324846733428482057     472\n",
       "1324856063238107137     418\n",
       "1324870496396177408     362\n",
       "1324823440432521217     243\n",
       "1324819770966003714     118\n",
       "1324774627147657221      13\n",
       "Name: count, dtype: int64"
      ]
     },
     "execution_count": 37,
     "metadata": {},
     "output_type": "execute_result"
    }
   ],
   "source": [
    "SDancetale_retweets.retweet_id.value_counts()"
   ]
  },
  {
   "cell_type": "code",
   "execution_count": 27,
   "id": "23fa7c92-8941-45f8-a36c-1582d830d033",
   "metadata": {},
   "outputs": [
    {
     "data": {
      "text/plain": [
       "user_id\n",
       "186667244              18\n",
       "833540671147421696     11\n",
       "4779329668             11\n",
       "2493696241             11\n",
       "985988531687448576     10\n",
       "3327839000              9\n",
       "401779805               9\n",
       "1033957982030188550     9\n",
       "1083900841780744192     9\n",
       "870121928228388865      9\n",
       "Name: count, dtype: int64"
      ]
     },
     "execution_count": 27,
     "metadata": {},
     "output_type": "execute_result"
    }
   ],
   "source": [
    "SDancetale_retweets.user_id.value_counts().head(10)"
   ]
  },
  {
   "cell_type": "markdown",
   "id": "f97772d8-1aa9-419d-b645-2996ddb3024e",
   "metadata": {},
   "source": [
    "# 1013462829834305537"
   ]
  },
  {
   "cell_type": "code",
   "execution_count": 39,
   "id": "22c32615-9f06-4107-aec6-155558ad9a22",
   "metadata": {},
   "outputs": [
    {
     "data": {
      "text/plain": [
       "'https://twitter.com/Miguel85616233/status/1323227247268999183'"
      ]
     },
     "execution_count": 39,
     "metadata": {},
     "output_type": "execute_result"
    }
   ],
   "source": [
    "tweet_df.query(\"user_id == '1013462829834305537'\").iloc[0]['link']"
   ]
  },
  {
   "cell_type": "markdown",
   "id": "064b0ff3-0d17-411e-85de-9cc496376478",
   "metadata": {},
   "source": [
    "# 1103970888330883073"
   ]
  },
  {
   "cell_type": "code",
   "execution_count": 41,
   "id": "837de2f2-d8d4-4268-8aab-2cb32fa39484",
   "metadata": {},
   "outputs": [
    {
     "data": {
      "text/plain": [
       "'https://twitter.com/fala08637975/status/1324914298708127745'"
      ]
     },
     "execution_count": 41,
     "metadata": {},
     "output_type": "execute_result"
    }
   ],
   "source": [
    "tweet_df.query(\"user_id == '1103970888330883073'\").iloc[0]['link']"
   ]
  },
  {
   "cell_type": "markdown",
   "id": "2fc55af7-2fd5-4516-91f4-7e50a2b06cc8",
   "metadata": {},
   "source": [
    "# 1281288188074418176"
   ]
  },
  {
   "cell_type": "code",
   "execution_count": 60,
   "id": "0e64fdce-3b13-4c88-bf28-d5f189217877",
   "metadata": {},
   "outputs": [
    {
     "data": {
      "text/plain": [
       "'https://twitter.com/TejinderjitK/status/1343700867061436417'"
      ]
     },
     "execution_count": 60,
     "metadata": {},
     "output_type": "execute_result"
    }
   ],
   "source": [
    "tweet_df.query(\"user_id == '1281288188074418176'\").iloc[4].link"
   ]
  },
  {
   "cell_type": "markdown",
   "id": "52b8abde-078c-4351-b2f3-9ee47487608e",
   "metadata": {},
   "source": [
    "# 1302495479775846400"
   ]
  },
  {
   "cell_type": "code",
   "execution_count": 63,
   "id": "bb8d0d91-8070-4151-bc15-73b45f4f223a",
   "metadata": {},
   "outputs": [
    {
     "data": {
      "text/plain": [
       "'https://twitter.com/TorlinaT/status/1324958993576583168'"
      ]
     },
     "execution_count": 63,
     "metadata": {},
     "output_type": "execute_result"
    }
   ],
   "source": [
    "tweet_df.query(\"user_id == '1302495479775846400'\").iloc[0].link"
   ]
  },
  {
   "cell_type": "markdown",
   "id": "1ddcc00d-eb77-442e-a6ed-d18187f6dbb2",
   "metadata": {},
   "source": [
    "# 1310285250421911553"
   ]
  },
  {
   "cell_type": "code",
   "execution_count": 67,
   "id": "3dbca1f6-803b-4465-bd9c-bbaede22b140",
   "metadata": {},
   "outputs": [
    {
     "data": {
      "text/plain": [
       "'https://twitter.com/TurnerEmilly/status/1326052554225065986'"
      ]
     },
     "execution_count": 67,
     "metadata": {},
     "output_type": "execute_result"
    }
   ],
   "source": [
    "tweet_df.query(\"user_id == '1310285250421911553'\").iloc[1].link"
   ]
  },
  {
   "cell_type": "markdown",
   "id": "11f9ed44-5de2-4860-9e06-d132eea011c0",
   "metadata": {},
   "source": [
    "# 1313444444549472256"
   ]
  },
  {
   "cell_type": "code",
   "execution_count": 71,
   "id": "25c897fc-6e82-4ca5-a8ea-108eb1c3e25f",
   "metadata": {},
   "outputs": [
    {
     "data": {
      "text/plain": [
       "'1323205963717865476'"
      ]
     },
     "execution_count": 71,
     "metadata": {},
     "output_type": "execute_result"
    }
   ],
   "source": [
    "tweet_df.query(\"user_id == '1313444444549472256'\").iloc[0].retweet_id"
   ]
  },
  {
   "cell_type": "markdown",
   "id": "1af0cd93-44d8-4395-8bc8-7557743ddb0d",
   "metadata": {},
   "source": [
    "# 1350365304866615296"
   ]
  },
  {
   "cell_type": "code",
   "execution_count": 79,
   "id": "db0ecc5e-3873-4376-a602-aec49da7e0f2",
   "metadata": {},
   "outputs": [
    {
     "data": {
      "text/plain": [
       "'RT @EmilySu94630292: I feel spiritually connected to the Johnny Depp case. I can’t explain it to anyone. It feels therapeutic to me to camp…'"
      ]
     },
     "execution_count": 79,
     "metadata": {},
     "output_type": "execute_result"
    }
   ],
   "source": [
    "tweet_df.query(\"user_id == '1350365304866615296'\").iloc[0].text"
   ]
  },
  {
   "cell_type": "code",
   "execution_count": null,
   "id": "18ba49a8-c23e-4eb6-9c90-2c4307916be5",
   "metadata": {},
   "outputs": [],
   "source": []
  }
 ],
 "metadata": {
  "kernelspec": {
   "display_name": "Python 3 (ipykernel)",
   "language": "python",
   "name": "python3"
  },
  "language_info": {
   "codemirror_mode": {
    "name": "ipython",
    "version": 3
   },
   "file_extension": ".py",
   "mimetype": "text/x-python",
   "name": "python",
   "nbconvert_exporter": "python",
   "pygments_lexer": "ipython3",
   "version": "3.10.12"
  }
 },
 "nbformat": 4,
 "nbformat_minor": 5
}
